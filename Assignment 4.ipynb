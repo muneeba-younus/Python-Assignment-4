{
 "cells": [
  {
   "cell_type": "code",
   "execution_count": null,
   "id": "8c2b1498",
   "metadata": {},
   "outputs": [],
   "source": [
    "#1. Make a calculator using Python with addition , subtraction , multiplication ,division and power.\n",
    "\n",
    "def addition(a, b):\n",
    "    return a + b\n",
    "\n",
    "def subtraction(a, b):\n",
    "    return a - b\n",
    "\n",
    "def multiplication(a, b):\n",
    "    return a * b\n",
    "\n",
    "def division(a, b):\n",
    "    return a / b\n",
    "\n",
    "print(\"Press 1 for Addition: \")\n",
    "print(\"Press 2 for Subtraction: \")\n",
    "print(\"Press 3 for Multiplication: \")\n",
    "print(\"Press 4 for Division: \")\n",
    "print(\"\\nSelect operation: \")\n",
    "\n",
    "while True:\n",
    "    option = input(\"Enter choice(1/2/3/4): \")\n",
    "\n",
    "    if option in ('1', '2', '3', '4'):\n",
    "        num1 = float(input(\"Enter first number: \"))\n",
    "        num2 = float(input(\"Enter second number: \"))\n",
    "\n",
    "        if option == '1':\n",
    "            print(num1, \"+\", num2, \"=\", addition(num1, num2))\n",
    "\n",
    "        elif option == '2':\n",
    "            print(num1, \"-\", num2, \"=\", subtraction(num1, num2))\n",
    "\n",
    "        elif option == '3':\n",
    "            print(num1, \"*\", num2, \"=\", multiplication(num1, num2))\n",
    "\n",
    "        elif option == '4':\n",
    "            print(num1, \"/\", num2, \"=\", division(num1, num2))\n",
    "        \n",
    "        break\n",
    "    \n",
    "    else:\n",
    "        print(\"\\nInvalid Input\")"
   ]
  },
  {
   "cell_type": "code",
   "execution_count": 5,
   "id": "ee4dee63",
   "metadata": {},
   "outputs": [
    {
     "name": "stdout",
     "output_type": "stream",
     "text": [
      "67\n"
     ]
    }
   ],
   "source": [
    "#2. Write a program to check if there is any numeric value in list using for loop.\n",
    "\n",
    "list = [\"abc\",\"hgh\", \"67\" , \"ghi\"]\n",
    "for x in list:\n",
    "    if(x.isnumeric() == True):\n",
    "        print(x)\n",
    "            "
   ]
  },
  {
   "cell_type": "code",
   "execution_count": 20,
   "id": "3eb3aec9",
   "metadata": {},
   "outputs": [
    {
     "name": "stdout",
     "output_type": "stream",
     "text": [
      "{'first name': 'Muneeba', 'last name': 'Younus', 'email address': 'muneeba.younus2001@gmail.com'}\n",
      "\n",
      "After adding Age: \n",
      "\n",
      "{'first name': 'Muneeba', 'last name': 'Younus', 'email address': 'muneeba.younus2001@gmail.com', 'age': 20}\n"
     ]
    }
   ],
   "source": [
    "#3. Write a Python script to add a key to a dictionary.\n",
    "\n",
    "dict1 = {\"first name\": \"Muneeba\", \"last name\": \"Younus\", \"email address\": \"muneeba.younus2001@gmail.com\"}\n",
    "print (dict1)\n",
    "\n",
    "dict1[\"age\"] = 20\n",
    "print(\"\\nAfter adding Age: \\n\")\n",
    "print (dict1)"
   ]
  },
  {
   "cell_type": "code",
   "execution_count": 22,
   "id": "8fdf040c",
   "metadata": {},
   "outputs": [
    {
     "name": "stdout",
     "output_type": "stream",
     "text": [
      "481\n"
     ]
    }
   ],
   "source": [
    "#4. Write a Python program to sum all the numeric items in a dictionary.\n",
    "\n",
    "dict = {'num1':120,'num2':344,' num3':17}\n",
    "print(sum(dict.values()))\n"
   ]
  },
  {
   "cell_type": "code",
   "execution_count": 7,
   "id": "356c0f90",
   "metadata": {},
   "outputs": [
    {
     "name": "stdout",
     "output_type": "stream",
     "text": [
      "Duplicate integeres:  [10, 30, -10, -20, 'bar']\n"
     ]
    }
   ],
   "source": [
    "#4. Write a program to identify duplicate values from list.\n",
    "#function\n",
    "def duplicate(li):\n",
    "    n=len(li)\n",
    "    dup=[]\n",
    "    for i in range(n):\n",
    "        k = i + 1\n",
    "        for j in range(k,n):\n",
    "            if li[i] == li[j] and li[i] not in dup:\n",
    "                dup.append(li[i])\n",
    "    return dup\n",
    "\n",
    "#test\n",
    "li=[ 10, 20, 30, -10, -20, 10, 80, -10, -20, 30, 'bar', 'jar','1', 'bar']\n",
    "print(\"Duplicate integeres: \",duplicate(li))\n"
   ]
  },
  {
   "cell_type": "code",
   "execution_count": 31,
   "id": "2b956be4",
   "metadata": {},
   "outputs": [
    {
     "name": "stdout",
     "output_type": "stream",
     "text": [
      "Key is not present in the dictionary\n"
     ]
    }
   ],
   "source": [
    "#6. Write a Python script to check if a given key already exists in a dictionary.\n",
    "\n",
    "dict = {1: \"abc\", 2: \"def\", 3: \"ghi\", 4: \"jkl\", 5: \"mno\", 6: \"pqr\"}\n",
    "def key_present(x):\n",
    "  if x in dict:\n",
    "      print('Key is present in the dictionary')\n",
    "  else:\n",
    "      print('Key is not present in the dictionary')\n",
    "\n",
    "\n",
    "key_present(\"abc\")\n",
    "\n"
   ]
  }
 ],
 "metadata": {
  "kernelspec": {
   "display_name": "Python 3",
   "language": "python",
   "name": "python3"
  },
  "language_info": {
   "codemirror_mode": {
    "name": "ipython",
    "version": 3
   },
   "file_extension": ".py",
   "mimetype": "text/x-python",
   "name": "python",
   "nbconvert_exporter": "python",
   "pygments_lexer": "ipython3",
   "version": "3.8.8"
  }
 },
 "nbformat": 4,
 "nbformat_minor": 5
}
